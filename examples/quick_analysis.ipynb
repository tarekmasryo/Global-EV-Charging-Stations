{
  "cells": [
    {
      "cell_type": "markdown",
      "metadata": {},
      "source": [
        "# Quick Analysis \u2014 EV Charging Stations (2025)\n",
        "\n",
        "This notebook shows a tiny example to load and explore the dataset."
      ]
    },
    {
      "cell_type": "code",
      "execution_count": 1,
      "metadata": {},
      "outputs": [],
      "source": [
        "import pandas as pd\n",
        "import matplotlib.pyplot as plt\n",
        "\n",
        "# Load main file (ensure you placed the CSV under data/)\n",
        "df = pd.read_csv('data/charging_stations_2025_world.csv')\n",
        "print('Shape:', df.shape)\n",
        "df.head()"
      ]
    },
    {
      "cell_type": "code",
      "execution_count": 2,
      "metadata": {},
      "outputs": [],
      "source": [
        "# Top 10 countries by number of sites\n",
        "top10 = df.groupby('country_code')['id'].count().sort_values(ascending=False).head(10)\n",
        "top10.plot(kind='bar', figsize=(8,4))\n",
        "plt.title('Top 10 Countries by Number of Charging Sites (2025)')\n",
        "plt.ylabel('Sites')\n",
        "plt.tight_layout()\n",
        "plt.show()"
      ]
    },
    {
      "cell_type": "code",
      "execution_count": 3,
      "metadata": {},
      "outputs": [],
      "source": [
        "# Share of high-power DC sites (>=100 kW)\n",
        "hpc_share = (df['power_kw'] >= 100).mean()\n",
        "print('HPC share:', round(hpc_share, 3))"
      ]
    }
  ],
  "metadata": {
    "kernelspec": {
      "display_name": "Python 3",
      "language": "python",
      "name": "python3"
    },
    "language_info": {
      "name": "python",
      "version": "3.x"
    }
  },
  "nbformat": 4,
  "nbformat_minor": 5
}